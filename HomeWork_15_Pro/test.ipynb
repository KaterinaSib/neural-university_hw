{
 "cells": [
  {
   "cell_type": "markdown",
   "metadata": {},
   "source": [
    "## Стриница для подсчета количества обращений"
   ]
  },
  {
   "cell_type": "code",
   "execution_count": 1,
   "metadata": {},
   "outputs": [
    {
     "name": "stdout",
     "output_type": "stream",
     "text": [
      "{\"message\":\"Общее количество обращений: 0\"}\n"
     ]
    }
   ],
   "source": [
    "import requests\n",
    "\n",
    "# запросы в fastapi_example\n",
    "response = requests.get(\"http://127.0.0.1:8000/\")\n",
    "print(response.text)"
   ]
  },
  {
   "cell_type": "markdown",
   "metadata": {},
   "source": [
    "## Пример использования модуля кастомного chatGPT "
   ]
  },
  {
   "cell_type": "code",
   "execution_count": 4,
   "metadata": {},
   "outputs": [
    {
     "name": "stdout",
     "output_type": "stream",
     "text": [
      "{\"message\":\"К сожалению, я не могу предоставить информацию о погоде. Могу помочь с вопросами, связанными со страхованием или другими темами.\"}\n"
     ]
    }
   ],
   "source": [
    "# использование кастомного chatgpt через кастомный api\n",
    "payload = {\"text\":\"Расскажи про погоду?\"}\n",
    "response = requests.post(\"http://127.0.0.1:8000/api/get_answer\", json=payload)\n",
    "\n",
    "print(response.text)"
   ]
  },
  {
   "cell_type": "code",
   "execution_count": 5,
   "metadata": {},
   "outputs": [
    {
     "name": "stdout",
     "output_type": "stream",
     "text": [
      "{\"message\":\"Страховые случаи, связанные с погодой, могут возникать в результате различных природных явлений, которые могут повлиять на деятельность Страхователя и привести к причинению вреда жизни, здоровью или имуществу юридических или физических лиц. Важно отметить, что такие случаи должны быть признаны Страхователем и согласованы со Страховщиком, либо установлены решением суда. \\n\\nПри этом, если произошли изменения в условиях страхования, связанные с погодными рисками, Страхователь обязан уведомить Страховщика о таких изменениях. Существенные изменения могут повлиять на вероятность наступления страхового случая и размер возможных убытков. \\n\\nТаким образом, для получения страховой выплаты в случае происшествий, связанных с погодными условиями, необходимо, чтобы они соответствовали условиям договора страхования и были признаны страховым случаем.\"}\n"
     ]
    }
   ],
   "source": [
    "# использование кастомного chatgpt через кастомный api\n",
    "payload = {\"text\":\"Расскажи про страховые случаи связанные с погодой?\"}\n",
    "response = requests.post(\"http://127.0.0.1:8000/api/get_answer\", json=payload)\n",
    "\n",
    "print(response.text)"
   ]
  },
  {
   "cell_type": "code",
   "execution_count": 6,
   "metadata": {},
   "outputs": [
    {
     "name": "stdout",
     "output_type": "stream",
     "text": [
      "{\"message\":\"Общее количество обращений: 3\"}\n"
     ]
    }
   ],
   "source": [
    "response = requests.get(\"http://127.0.0.1:8000/\")\n",
    "print(response.text)"
   ]
  }
 ],
 "metadata": {
  "kernelspec": {
   "display_name": ".env_15_pro",
   "language": "python",
   "name": "python3"
  },
  "language_info": {
   "codemirror_mode": {
    "name": "ipython",
    "version": 3
   },
   "file_extension": ".py",
   "mimetype": "text/x-python",
   "name": "python",
   "nbconvert_exporter": "python",
   "pygments_lexer": "ipython3",
   "version": "3.12.7"
  }
 },
 "nbformat": 4,
 "nbformat_minor": 2
}
