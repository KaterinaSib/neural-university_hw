{
 "cells": [
  {
   "cell_type": "markdown",
   "metadata": {},
   "source": [
    "## Пример использования калькулятора"
   ]
  },
  {
   "cell_type": "code",
   "execution_count": null,
   "metadata": {},
   "outputs": [
    {
     "name": "stdout",
     "output_type": "stream",
     "text": [
      "^C\n"
     ]
    }
   ],
   "source": [
    "# Запустить сервер командой uvicorn app_calc:app --reload"
   ]
  },
  {
   "cell_type": "code",
   "execution_count": 1,
   "metadata": {},
   "outputs": [
    {
     "name": "stdout",
     "output_type": "stream",
     "text": [
      "\"10 + 2 = 12\"\n"
     ]
    }
   ],
   "source": [
    "# запросы в fastapi_example\n",
    "import requests\n",
    "\n",
    "payload={\"a\":10, \"b\":2}\n",
    "response = requests.post(\"http://127.0.0.1:8000/add\", json=payload)\n",
    "print(response.text)"
   ]
  },
  {
   "cell_type": "code",
   "execution_count": 2,
   "metadata": {},
   "outputs": [
    {
     "name": "stdout",
     "output_type": "stream",
     "text": [
      "\"6 - 2 = 4\"\n"
     ]
    }
   ],
   "source": [
    "payload={\"a\":6, \"b\":2}\n",
    "response = requests.post(\"http://127.0.0.1:8000/subtract\", json=payload)\n",
    "print(response.text)"
   ]
  },
  {
   "cell_type": "code",
   "execution_count": 3,
   "metadata": {},
   "outputs": [
    {
     "name": "stdout",
     "output_type": "stream",
     "text": [
      "\"6 * 2 = 12\"\n"
     ]
    }
   ],
   "source": [
    "payload={\"a\":6, \"b\":2}\n",
    "response = requests.post(\"http://127.0.0.1:8000/multiply\", json=payload)\n",
    "print(response.text)"
   ]
  },
  {
   "cell_type": "code",
   "execution_count": 4,
   "metadata": {},
   "outputs": [
    {
     "name": "stdout",
     "output_type": "stream",
     "text": [
      "\"6 / 2 = 3\"\n"
     ]
    }
   ],
   "source": [
    "payload={\"a\":6, \"b\":2}\n",
    "response = requests.post(\"http://127.0.0.1:8000/divide\", json=payload)\n",
    "print(response.text)"
   ]
  }
 ],
 "metadata": {
  "kernelspec": {
   "display_name": ".env",
   "language": "python",
   "name": "python3"
  },
  "language_info": {
   "codemirror_mode": {
    "name": "ipython",
    "version": 3
   },
   "file_extension": ".py",
   "mimetype": "text/x-python",
   "name": "python",
   "nbconvert_exporter": "python",
   "pygments_lexer": "ipython3",
   "version": "3.12.7"
  }
 },
 "nbformat": 4,
 "nbformat_minor": 2
}
