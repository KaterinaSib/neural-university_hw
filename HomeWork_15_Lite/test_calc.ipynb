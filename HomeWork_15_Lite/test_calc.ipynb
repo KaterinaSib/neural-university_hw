{
 "cells": [
  {
   "cell_type": "markdown",
   "metadata": {},
   "source": [
    "## Пример использования калькулятора"
   ]
  },
  {
   "cell_type": "code",
   "execution_count": null,
   "metadata": {},
   "outputs": [
    {
     "name": "stdout",
     "output_type": "stream",
     "text": [
      "^C\n"
     ]
    }
   ],
   "source": [
    "# Запустить сервер командой uvicorn app_calc:app --reload"
   ]
  },
  {
   "cell_type": "code",
   "execution_count": null,
   "metadata": {},
   "outputs": [
    {
     "ename": "",
     "evalue": "",
     "output_type": "error",
     "traceback": [
      "\u001b[1;31mДля выполнения ячеек с \".env (Python 3.12.7)\" требуется пакет ipykernel.\n",
      "\u001b[1;31mВыполните следующую команду, чтобы установить \"ipykernel\" в среде Python. \n",
      "\u001b[1;31mКоманда: \"d:/!!!УИИ/Home_work/repo_from_hw/HomeWork_15_Lite/.env/Scripts/python.exe -m pip install ipykernel -U --force-reinstall\""
     ]
    }
   ],
   "source": [
    "# запросы в fastapi_example\n",
    "import requests\n",
    "\n",
    "payload={\"a\":10, \"b\":2}\n",
    "response = requests.post(\"http://127.0.0.1:8000/add\", json=payload)\n",
    "print(response.text)"
   ]
  },
  {
   "cell_type": "code",
   "execution_count": 8,
   "metadata": {},
   "outputs": [
    {
     "name": "stdout",
     "output_type": "stream",
     "text": [
      "\"6 - 2 = 4\"\n"
     ]
    }
   ],
   "source": [
    "payload={\"a\":6, \"b\":2}\n",
    "response = requests.post(\"http://127.0.0.1:8000/subtract\", json=payload)\n",
    "print(response.text)"
   ]
  },
  {
   "cell_type": "code",
   "execution_count": 9,
   "metadata": {},
   "outputs": [
    {
     "name": "stdout",
     "output_type": "stream",
     "text": [
      "\"6 * 2 = 12\"\n"
     ]
    }
   ],
   "source": [
    "payload={\"a\":6, \"b\":2}\n",
    "response = requests.post(\"http://127.0.0.1:8000/multiply\", json=payload)\n",
    "print(response.text)"
   ]
  },
  {
   "cell_type": "code",
   "execution_count": 10,
   "metadata": {},
   "outputs": [
    {
     "name": "stdout",
     "output_type": "stream",
     "text": [
      "\"6 / 2 = 3\"\n"
     ]
    }
   ],
   "source": [
    "payload={\"a\":6, \"b\":2}\n",
    "response = requests.post(\"http://127.0.0.1:8000/divide\", json=payload)\n",
    "print(response.text)"
   ]
  }
 ],
 "metadata": {
  "kernelspec": {
   "display_name": ".env",
   "language": "python",
   "name": "python3"
  },
  "language_info": {
   "codemirror_mode": {
    "name": "ipython",
    "version": 3
   },
   "file_extension": ".py",
   "mimetype": "text/x-python",
   "name": "python",
   "nbconvert_exporter": "python",
   "pygments_lexer": "ipython3",
   "version": "3.12.7"
  }
 },
 "nbformat": 4,
 "nbformat_minor": 2
}
